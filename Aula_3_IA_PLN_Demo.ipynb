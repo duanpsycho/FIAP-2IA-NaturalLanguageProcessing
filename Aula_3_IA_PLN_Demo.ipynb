{
  "nbformat": 4,
  "nbformat_minor": 0,
  "metadata": {
    "colab": {
      "name": "Aula 3 IA PLN - Demo.ipynb",
      "version": "0.3.2",
      "provenance": [],
      "collapsed_sections": []
    },
    "kernelspec": {
      "name": "python3",
      "display_name": "Python 3"
    }
  },
  "cells": [
    {
      "metadata": {
        "id": "JdelQOET5rDj",
        "colab_type": "text"
      },
      "cell_type": "markdown",
      "source": [
        "# Processamento de Linguagem Natural\n",
        "\n",
        "---\n"
      ]
    },
    {
      "metadata": {
        "id": "d4CKjpwJ2DD2",
        "colab_type": "code",
        "outputId": "0d8c34df-00b8-485c-8b7f-d0765b128151",
        "colab": {
          "base_uri": "https://localhost:8080/",
          "height": 111
        }
      },
      "cell_type": "code",
      "source": [
        "import pandas as pd\n",
        "\n",
        "df = pd.DataFrame({\n",
        "    'text': [\n",
        "      'Sobre MBA ? Eu gostei muito do MBA da FIAP',\n",
        "      'O MBA da FIAP pode melhorar, não gostei muito'\n",
        "    ],\n",
        "    'class': [\n",
        "        'positivo',\n",
        "        'negativo'\n",
        "    ]})\n",
        "\n",
        "df.head()"
      ],
      "execution_count": 0,
      "outputs": [
        {
          "output_type": "execute_result",
          "data": {
            "text/html": [
              "<div>\n",
              "<style scoped>\n",
              "    .dataframe tbody tr th:only-of-type {\n",
              "        vertical-align: middle;\n",
              "    }\n",
              "\n",
              "    .dataframe tbody tr th {\n",
              "        vertical-align: top;\n",
              "    }\n",
              "\n",
              "    .dataframe thead th {\n",
              "        text-align: right;\n",
              "    }\n",
              "</style>\n",
              "<table border=\"1\" class=\"dataframe\">\n",
              "  <thead>\n",
              "    <tr style=\"text-align: right;\">\n",
              "      <th></th>\n",
              "      <th>class</th>\n",
              "      <th>text</th>\n",
              "    </tr>\n",
              "  </thead>\n",
              "  <tbody>\n",
              "    <tr>\n",
              "      <th>0</th>\n",
              "      <td>positivo</td>\n",
              "      <td>Sobre MBA ? Eu gostei muito do MBA da FIAP</td>\n",
              "    </tr>\n",
              "    <tr>\n",
              "      <th>1</th>\n",
              "      <td>negativo</td>\n",
              "      <td>O MBA da FIAP pode melhorar, não gostei muito</td>\n",
              "    </tr>\n",
              "  </tbody>\n",
              "</table>\n",
              "</div>"
            ],
            "text/plain": [
              "      class                                           text\n",
              "0  positivo     Sobre MBA ? Eu gostei muito do MBA da FIAP\n",
              "1  negativo  O MBA da FIAP pode melhorar, não gostei muito"
            ]
          },
          "metadata": {
            "tags": []
          },
          "execution_count": 1
        }
      ]
    },
    {
      "metadata": {
        "id": "IqCkOL0C5-FC",
        "colab_type": "text"
      },
      "cell_type": "markdown",
      "source": [
        "## Contagem de Termos - UNIGRAMA\n",
        "\n",
        "---"
      ]
    },
    {
      "metadata": {
        "id": "G6kSv69h2jKs",
        "colab_type": "code",
        "outputId": "35a54ee4-2974-4aa1-d689-ee204cb262ee",
        "colab": {
          "base_uri": "https://localhost:8080/",
          "height": 221
        }
      },
      "cell_type": "code",
      "source": [
        "from sklearn.feature_extraction.text import CountVectorizer\n",
        "\n",
        "vect = CountVectorizer(ngram_range=(1,1))\n",
        "vect.fit(df.text)\n",
        "text_vect = vect.transform(df.text)\n",
        "\n",
        "print(pd.DataFrame(text_vect.A, columns=vect.get_feature_names()).T.to_string())"
      ],
      "execution_count": 0,
      "outputs": [
        {
          "output_type": "stream",
          "text": [
            "          0  1\n",
            "da        1  1\n",
            "do        1  0\n",
            "eu        1  0\n",
            "fiap      1  1\n",
            "gostei    1  1\n",
            "mba       2  1\n",
            "melhorar  0  1\n",
            "muito     1  1\n",
            "não       0  1\n",
            "pode      0  1\n",
            "sobre     1  0\n"
          ],
          "name": "stdout"
        }
      ]
    },
    {
      "metadata": {
        "id": "TUTv5MDZE0jr",
        "colab_type": "text"
      },
      "cell_type": "markdown",
      "source": [
        "## TF"
      ]
    },
    {
      "metadata": {
        "id": "Wp4frwerLyx8",
        "colab_type": "code",
        "outputId": "b4f1e744-58d3-44a6-dbd6-1428ee462896",
        "colab": {
          "base_uri": "https://localhost:8080/",
          "height": 221
        }
      },
      "cell_type": "code",
      "source": [
        "from sklearn.feature_extraction.text import TfidfVectorizer\n",
        "\n",
        "vect = TfidfVectorizer(ngram_range=(1,1), use_idf=False)\n",
        "vect.fit(df.text)\n",
        "text_vect = vect.transform(df.text)\n",
        "\n",
        "print(pd.DataFrame(text_vect.A, columns=vect.get_feature_names()).T.to_string())"
      ],
      "execution_count": 0,
      "outputs": [
        {
          "output_type": "stream",
          "text": [
            "                 0         1\n",
            "da        0.301511  0.353553\n",
            "do        0.301511  0.000000\n",
            "eu        0.301511  0.000000\n",
            "fiap      0.301511  0.353553\n",
            "gostei    0.301511  0.353553\n",
            "mba       0.603023  0.353553\n",
            "melhorar  0.000000  0.353553\n",
            "muito     0.301511  0.353553\n",
            "não       0.000000  0.353553\n",
            "pode      0.000000  0.353553\n",
            "sobre     0.301511  0.000000\n"
          ],
          "name": "stdout"
        }
      ]
    },
    {
      "metadata": {
        "id": "dxG2g5mInypI",
        "colab_type": "text"
      },
      "cell_type": "markdown",
      "source": [
        "## TF-IDF"
      ]
    },
    {
      "metadata": {
        "id": "XcJsUXuHFTnM",
        "colab_type": "code",
        "outputId": "e5688ef9-3b30-448c-ea0c-c88318857e03",
        "colab": {
          "base_uri": "https://localhost:8080/",
          "height": 221
        }
      },
      "cell_type": "code",
      "source": [
        "from sklearn.feature_extraction.text import TfidfVectorizer\n",
        "\n",
        "vect = TfidfVectorizer(ngram_range=(1,1), use_idf=True)\n",
        "vect.fit(df.text)\n",
        "text_vect = vect.transform(df.text)\n",
        "\n",
        "print(pd.DataFrame(text_vect.A, columns=vect.get_feature_names()).T.to_string())"
      ],
      "execution_count": 0,
      "outputs": [
        {
          "output_type": "stream",
          "text": [
            "                 0         1\n",
            "da        0.267970  0.302531\n",
            "do        0.376623  0.000000\n",
            "eu        0.376623  0.000000\n",
            "fiap      0.267970  0.302531\n",
            "gostei    0.267970  0.302531\n",
            "mba       0.535941  0.302531\n",
            "melhorar  0.000000  0.425196\n",
            "muito     0.267970  0.302531\n",
            "não       0.000000  0.425196\n",
            "pode      0.000000  0.425196\n",
            "sobre     0.376623  0.000000\n"
          ],
          "name": "stdout"
        }
      ]
    },
    {
      "metadata": {
        "id": "owZf_DaUomwT",
        "colab_type": "text"
      },
      "cell_type": "markdown",
      "source": [
        "## Modelo com n-grama"
      ]
    },
    {
      "metadata": {
        "id": "A3p0_VlNmzAY",
        "colab_type": "code",
        "outputId": "beabe6e3-8efb-4d99-fb14-208962edf8e3",
        "colab": {
          "base_uri": "https://localhost:8080/",
          "height": 34
        }
      },
      "cell_type": "code",
      "source": [
        "from sklearn.tree import DecisionTreeClassifier\n",
        "\n",
        "\n",
        "tree = DecisionTreeClassifier()\n",
        "tree.fit(text_vect, df['class'])\n",
        "\n",
        "print('D Tree: ', tree.score(text_vect, df['class']))"
      ],
      "execution_count": 0,
      "outputs": [
        {
          "output_type": "stream",
          "text": [
            "D Tree:  1.0\n"
          ],
          "name": "stdout"
        }
      ]
    },
    {
      "metadata": {
        "id": "OuGLwdhUpuIZ",
        "colab_type": "code",
        "outputId": "5b4de4dd-15bc-4c1d-8df5-4a4dfef1001d",
        "colab": {
          "base_uri": "https://localhost:8080/",
          "height": 34
        }
      },
      "cell_type": "code",
      "source": [
        "texto = vect.transform(['a curso pode melhorar'])\n",
        "\n",
        "print('D Tree: ', tree.predict(texto))"
      ],
      "execution_count": 0,
      "outputs": [
        {
          "output_type": "stream",
          "text": [
            "D Tree:  ['negativo']\n"
          ],
          "name": "stdout"
        }
      ]
    },
    {
      "metadata": {
        "id": "2R6-1s4wqEiq",
        "colab_type": "code",
        "colab": {}
      },
      "cell_type": "code",
      "source": [
        ""
      ],
      "execution_count": 0,
      "outputs": []
    }
  ]
}