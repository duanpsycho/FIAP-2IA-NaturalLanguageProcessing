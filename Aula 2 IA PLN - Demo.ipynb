{
 "cells": [
  {
   "cell_type": "markdown",
   "metadata": {
    "colab_type": "text",
    "id": "JdelQOET5rDj"
   },
   "source": [
    "# Processamento de Linguagem Natural\n",
    "\n",
    "---\n"
   ]
  },
  {
   "cell_type": "code",
   "execution_count": 0,
   "metadata": {
    "colab": {
     "base_uri": "https://localhost:8080/",
     "height": 111
    },
    "colab_type": "code",
    "executionInfo": {
     "elapsed": 845,
     "status": "ok",
     "timestamp": 1550947057924,
     "user": {
      "displayName": "Rafael Novello",
      "photoUrl": "https://lh6.googleusercontent.com/-SoP3Hzzl5dY/AAAAAAAAAAI/AAAAAAAAAD0/YVqtA8j09EI/s64/photo.jpg",
      "userId": "15424338127039896265"
     },
     "user_tz": 180
    },
    "id": "d4CKjpwJ2DD2",
    "outputId": "e8f86454-0152-4d53-d88f-059db60d7020"
   },
   "outputs": [
    {
     "data": {
      "text/html": [
       "<div>\n",
       "<style scoped>\n",
       "    .dataframe tbody tr th:only-of-type {\n",
       "        vertical-align: middle;\n",
       "    }\n",
       "\n",
       "    .dataframe tbody tr th {\n",
       "        vertical-align: top;\n",
       "    }\n",
       "\n",
       "    .dataframe thead th {\n",
       "        text-align: right;\n",
       "    }\n",
       "</style>\n",
       "<table border=\"1\" class=\"dataframe\">\n",
       "  <thead>\n",
       "    <tr style=\"text-align: right;\">\n",
       "      <th></th>\n",
       "      <th>class</th>\n",
       "      <th>text</th>\n",
       "    </tr>\n",
       "  </thead>\n",
       "  <tbody>\n",
       "    <tr>\n",
       "      <th>0</th>\n",
       "      <td>positivo</td>\n",
       "      <td>Sobre MBA? Eu gostei muito do MBA da FIAP</td>\n",
       "    </tr>\n",
       "    <tr>\n",
       "      <th>1</th>\n",
       "      <td>negativo</td>\n",
       "      <td>O MBA da FIAP pode melhorar, não gostei muito</td>\n",
       "    </tr>\n",
       "  </tbody>\n",
       "</table>\n",
       "</div>"
      ],
      "text/plain": [
       "      class                                           text\n",
       "0  positivo      Sobre MBA? Eu gostei muito do MBA da FIAP\n",
       "1  negativo  O MBA da FIAP pode melhorar, não gostei muito"
      ]
     },
     "execution_count": 5,
     "metadata": {
      "tags": []
     },
     "output_type": "execute_result"
    }
   ],
   "source": [
    "import pandas as pd\n",
    "\n",
    "df = pd.DataFrame({\n",
    "    'text': [\n",
    "      'Sobre MBA? Eu gostei muito do MBA da FIAP',\n",
    "      'O MBA da FIAP pode melhorar, não gostei muito'\n",
    "    ],\n",
    "    'class': [\n",
    "        'positivo',\n",
    "        'negativo'\n",
    "    ]})\n",
    "\n",
    "df.head()"
   ]
  },
  {
   "cell_type": "markdown",
   "metadata": {
    "colab_type": "text",
    "id": "IqCkOL0C5-FC"
   },
   "source": [
    "## UNIGRAMA\n",
    "\n",
    "---"
   ]
  },
  {
   "cell_type": "code",
   "execution_count": 0,
   "metadata": {
    "colab": {
     "base_uri": "https://localhost:8080/",
     "height": 437
    },
    "colab_type": "code",
    "executionInfo": {
     "elapsed": 771,
     "status": "ok",
     "timestamp": 1550947061661,
     "user": {
      "displayName": "Rafael Novello",
      "photoUrl": "https://lh6.googleusercontent.com/-SoP3Hzzl5dY/AAAAAAAAAAI/AAAAAAAAAD0/YVqtA8j09EI/s64/photo.jpg",
      "userId": "15424338127039896265"
     },
     "user_tz": 180
    },
    "id": "G6kSv69h2jKs",
    "outputId": "6eb8bae7-cf2f-4a23-b1ae-b3c25fe3289a"
   },
   "outputs": [
    {
     "name": "stdout",
     "output_type": "stream",
     "text": [
      "               0  1\n",
      "da             1  1\n",
      "da fiap        1  1\n",
      "do             1  0\n",
      "do mba         1  0\n",
      "eu             1  0\n",
      "eu gostei      1  0\n",
      "fiap           1  1\n",
      "fiap pode      0  1\n",
      "gostei         1  1\n",
      "gostei muito   1  1\n",
      "mba            2  1\n",
      "mba da         1  1\n",
      "mba eu         1  0\n",
      "melhorar       0  1\n",
      "melhorar não   0  1\n",
      "muito          1  1\n",
      "muito do       1  0\n",
      "não            0  1\n",
      "não gostei     0  1\n",
      "pode           0  1\n",
      "pode melhorar  0  1\n",
      "sobre          1  0\n",
      "sobre mba      1  0\n"
     ]
    }
   ],
   "source": [
    "from sklearn.feature_extraction.text import CountVectorizer\n",
    "\n",
    "vect = CountVectorizer(ngram_range=(1,2))\n",
    "vect.fit(df.text)\n",
    "text_vect = vect.transform(df.text)\n",
    "\n",
    "print(pd.DataFrame(text_vect.A, columns=vect.get_feature_names()).T.to_string())"
   ]
  },
  {
   "cell_type": "markdown",
   "metadata": {
    "colab_type": "text",
    "id": "PHfqBTzH6LQm"
   },
   "source": [
    "## BIGRAMA\n",
    "\n",
    "---"
   ]
  },
  {
   "cell_type": "code",
   "execution_count": 0,
   "metadata": {
    "colab": {
     "base_uri": "https://localhost:8080/",
     "height": 243
    },
    "colab_type": "code",
    "executionInfo": {
     "elapsed": 717,
     "status": "ok",
     "timestamp": 1537225397153,
     "user": {
      "displayName": "Rafael Novello",
      "photoUrl": "//lh6.googleusercontent.com/-SoP3Hzzl5dY/AAAAAAAAAAI/AAAAAAAAAD0/YVqtA8j09EI/s50-c-k-no/photo.jpg",
      "userId": "102365162583993931504"
     },
     "user_tz": 180
    },
    "id": "qDLdamcR2q4e",
    "outputId": "cfd550e9-9b19-4bab-c149-7a87a1a63344"
   },
   "outputs": [
    {
     "name": "stdout",
     "output_type": "stream",
     "text": [
      "               0  1\n",
      "da fiap        1  1\n",
      "do mba         1  0\n",
      "eu gostei      1  0\n",
      "fiap pode      0  1\n",
      "gostei muito   1  1\n",
      "mba da         1  1\n",
      "mba eu         1  0\n",
      "melhorar não   0  1\n",
      "muito do       1  0\n",
      "não gostei     0  1\n",
      "pode melhorar  0  1\n",
      "sobre mba      1  0\n"
     ]
    }
   ],
   "source": [
    "from sklearn.feature_extraction.text import CountVectorizer\n",
    "\n",
    "vect = CountVectorizer(ngram_range=(2,2))\n",
    "vect.fit(df.text)\n",
    "text_vect = vect.transform(df.text)\n",
    "\n",
    "print(pd.DataFrame(text_vect.A, columns=vect.get_feature_names()).T.to_string())"
   ]
  },
  {
   "cell_type": "markdown",
   "metadata": {
    "colab_type": "text",
    "id": "QIFnNUdM6SvU"
   },
   "source": [
    "## TRIGRAMA\n",
    "\n",
    "---"
   ]
  },
  {
   "cell_type": "code",
   "execution_count": 0,
   "metadata": {
    "colab": {
     "base_uri": "https://localhost:8080/",
     "height": 243
    },
    "colab_type": "code",
    "executionInfo": {
     "elapsed": 612,
     "status": "ok",
     "timestamp": 1537225444742,
     "user": {
      "displayName": "Rafael Novello",
      "photoUrl": "//lh6.googleusercontent.com/-SoP3Hzzl5dY/AAAAAAAAAAI/AAAAAAAAAD0/YVqtA8j09EI/s50-c-k-no/photo.jpg",
      "userId": "102365162583993931504"
     },
     "user_tz": 180
    },
    "id": "xalnPjjG2u7k",
    "outputId": "193e2314-8bed-48b9-c6ac-aa668c087937"
   },
   "outputs": [
    {
     "name": "stdout",
     "output_type": "stream",
     "text": [
      "                     0  1\n",
      "da fiap pode         0  1\n",
      "do mba da            1  0\n",
      "eu gostei muito      1  0\n",
      "fiap pode melhorar   0  1\n",
      "gostei muito do      1  0\n",
      "mba da fiap          1  1\n",
      "mba eu gostei        1  0\n",
      "melhorar não gostei  0  1\n",
      "muito do mba         1  0\n",
      "não gostei muito     0  1\n",
      "pode melhorar não    0  1\n",
      "sobre mba eu         1  0\n"
     ]
    }
   ],
   "source": [
    "from sklearn.feature_extraction.text import CountVectorizer\n",
    "\n",
    "vect = CountVectorizer(ngram_range=(3,3))\n",
    "vect.fit(df.text)\n",
    "text_vect = vect.transform(df.text)\n",
    "\n",
    "print(pd.DataFrame(text_vect.A, columns=vect.get_feature_names()).T.to_string())"
   ]
  },
  {
   "cell_type": "markdown",
   "metadata": {
    "colab_type": "text",
    "id": "swmx7vR65mdb"
   },
   "source": [
    "## REGEX\n",
    "\n",
    "---"
   ]
  },
  {
   "cell_type": "code",
   "execution_count": 0,
   "metadata": {
    "colab": {
     "base_uri": "https://localhost:8080/",
     "height": 34
    },
    "colab_type": "code",
    "executionInfo": {
     "elapsed": 1942,
     "status": "ok",
     "timestamp": 1550947322538,
     "user": {
      "displayName": "Rafael Novello",
      "photoUrl": "https://lh6.googleusercontent.com/-SoP3Hzzl5dY/AAAAAAAAAAI/AAAAAAAAAD0/YVqtA8j09EI/s64/photo.jpg",
      "userId": "15424338127039896265"
     },
     "user_tz": 180
    },
    "id": "QLP8WEzi_i7j",
    "outputId": "dc2b05c2-1a9d-476f-efba-12c5daf4d89a"
   },
   "outputs": [
    {
     "data": {
      "text/plain": [
       "'gmail'"
      ]
     },
     "execution_count": 7,
     "metadata": {
      "tags": []
     },
     "output_type": "execute_result"
    }
   ],
   "source": [
    "\"rafael.novello @ gmail . com\".split(\"@\")[1].split(\".\")[0]"
   ]
  },
  {
   "cell_type": "code",
   "execution_count": 0,
   "metadata": {
    "colab": {
     "base_uri": "https://localhost:8080/",
     "height": 34
    },
    "colab_type": "code",
    "executionInfo": {
     "elapsed": 742,
     "status": "ok",
     "timestamp": 1550947368858,
     "user": {
      "displayName": "Rafael Novello",
      "photoUrl": "https://lh6.googleusercontent.com/-SoP3Hzzl5dY/AAAAAAAAAAI/AAAAAAAAAD0/YVqtA8j09EI/s64/photo.jpg",
      "userId": "15424338127039896265"
     },
     "user_tz": 180
    },
    "id": "LSUYkTSFEK7l",
    "outputId": "8e27d458-08eb-407c-91bb-810725021635"
   },
   "outputs": [
    {
     "data": {
      "text/plain": [
       "['gmail']"
      ]
     },
     "execution_count": 8,
     "metadata": {
      "tags": []
     },
     "output_type": "execute_result"
    }
   ],
   "source": [
    "import re\n",
    "\n",
    "regex = r\"(?<=@)[^.]+(?=\\.)\"\n",
    "\n",
    "re.findall(regex, \"rafael.novello@gmail.com\")"
   ]
  },
  {
   "cell_type": "code",
   "execution_count": 0,
   "metadata": {
    "colab": {
     "base_uri": "https://localhost:8080/",
     "height": 34
    },
    "colab_type": "code",
    "executionInfo": {
     "elapsed": 5167,
     "status": "ok",
     "timestamp": 1550947426572,
     "user": {
      "displayName": "Rafael Novello",
      "photoUrl": "https://lh6.googleusercontent.com/-SoP3Hzzl5dY/AAAAAAAAAAI/AAAAAAAAAD0/YVqtA8j09EI/s64/photo.jpg",
      "userId": "15424338127039896265"
     },
     "user_tz": 180
    },
    "id": "oP7VTbtgDkYq",
    "outputId": "e70b90c0-2073-432b-9806-8001778afa8b"
   },
   "outputs": [
    {
     "data": {
      "text/plain": [
       "[1.2108798310000566, 1.2005691080012184]"
      ]
     },
     "execution_count": 9,
     "metadata": {
      "tags": []
     },
     "output_type": "execute_result"
    }
   ],
   "source": [
    "import timeit\n",
    "\n",
    "timeit.Timer(\n",
    " 're.findall(regex, \"novello@gmail.com\")',\n",
    " 'import re; regex = r\"(?<=@)[^.]+(?=\\.)\"'\n",
    ").repeat(2)"
   ]
  },
  {
   "cell_type": "code",
   "execution_count": 0,
   "metadata": {
    "colab": {
     "base_uri": "https://localhost:8080/",
     "height": 34
    },
    "colab_type": "code",
    "executionInfo": {
     "elapsed": 1732,
     "status": "ok",
     "timestamp": 1550947430648,
     "user": {
      "displayName": "Rafael Novello",
      "photoUrl": "https://lh6.googleusercontent.com/-SoP3Hzzl5dY/AAAAAAAAAAI/AAAAAAAAAD0/YVqtA8j09EI/s64/photo.jpg",
      "userId": "15424338127039896265"
     },
     "user_tz": 180
    },
    "id": "rBmaBfknD0l7",
    "outputId": "dace9e20-38fa-45fc-dbd6-37c66a7b9532"
   },
   "outputs": [
    {
     "data": {
      "text/plain": [
       "[0.5018313140026294, 0.49308275599832996]"
      ]
     },
     "execution_count": 10,
     "metadata": {
      "tags": []
     },
     "output_type": "execute_result"
    }
   ],
   "source": [
    "import timeit\n",
    "\n",
    "timeit.Timer(\n",
    " '\"novello@gmail.com\".split(\"@\")[1].split(\".\")[0]'\n",
    ").repeat(2)"
   ]
  },
  {
   "cell_type": "code",
   "execution_count": 0,
   "metadata": {
    "colab": {
     "base_uri": "https://localhost:8080/",
     "height": 384
    },
    "colab_type": "code",
    "executionInfo": {
     "elapsed": 817,
     "status": "ok",
     "timestamp": 1550947435437,
     "user": {
      "displayName": "Rafael Novello",
      "photoUrl": "https://lh6.googleusercontent.com/-SoP3Hzzl5dY/AAAAAAAAAAI/AAAAAAAAAD0/YVqtA8j09EI/s64/photo.jpg",
      "userId": "15424338127039896265"
     },
     "user_tz": 180
    },
    "id": "OiOFT26cD-W6",
    "outputId": "7ee2479f-cf55-4ae3-e084-bef0108a60e3"
   },
   "outputs": [
    {
     "name": "stdout",
     "output_type": "stream",
     "text": [
      "The Zen of Python, by Tim Peters\n",
      "\n",
      "Beautiful is better than ugly.\n",
      "Explicit is better than implicit.\n",
      "Simple is better than complex.\n",
      "Complex is better than complicated.\n",
      "Flat is better than nested.\n",
      "Sparse is better than dense.\n",
      "Readability counts.\n",
      "Special cases aren't special enough to break the rules.\n",
      "Although practicality beats purity.\n",
      "Errors should never pass silently.\n",
      "Unless explicitly silenced.\n",
      "In the face of ambiguity, refuse the temptation to guess.\n",
      "There should be one-- and preferably only one --obvious way to do it.\n",
      "Although that way may not be obvious at first unless you're Dutch.\n",
      "Now is better than never.\n",
      "Although never is often better than *right* now.\n",
      "If the implementation is hard to explain, it's a bad idea.\n",
      "If the implementation is easy to explain, it may be a good idea.\n",
      "Namespaces are one honking great idea -- let's do more of those!\n"
     ]
    }
   ],
   "source": [
    "import this"
   ]
  },
  {
   "cell_type": "markdown",
   "metadata": {
    "colab_type": "text",
    "id": "SSK6DZRdmKo8"
   },
   "source": [
    "## STOPWORDS"
   ]
  },
  {
   "cell_type": "code",
   "execution_count": 0,
   "metadata": {
    "colab": {
     "base_uri": "https://localhost:8080/",
     "height": 3569
    },
    "colab_type": "code",
    "executionInfo": {
     "elapsed": 808,
     "status": "ok",
     "timestamp": 1550947480965,
     "user": {
      "displayName": "Rafael Novello",
      "photoUrl": "https://lh6.googleusercontent.com/-SoP3Hzzl5dY/AAAAAAAAAAI/AAAAAAAAAD0/YVqtA8j09EI/s64/photo.jpg",
      "userId": "15424338127039896265"
     },
     "user_tz": 180
    },
    "id": "hp5M3u_XrGqY",
    "outputId": "9ba1e2de-864c-49e7-e157-1cb830388b6b"
   },
   "outputs": [
    {
     "data": {
      "text/plain": [
       "['de',\n",
       " 'a',\n",
       " 'o',\n",
       " 'que',\n",
       " 'e',\n",
       " 'do',\n",
       " 'da',\n",
       " 'em',\n",
       " 'um',\n",
       " 'para',\n",
       " 'com',\n",
       " 'não',\n",
       " 'uma',\n",
       " 'os',\n",
       " 'no',\n",
       " 'se',\n",
       " 'na',\n",
       " 'por',\n",
       " 'mais',\n",
       " 'as',\n",
       " 'dos',\n",
       " 'como',\n",
       " 'mas',\n",
       " 'ao',\n",
       " 'ele',\n",
       " 'das',\n",
       " 'à',\n",
       " 'seu',\n",
       " 'sua',\n",
       " 'ou',\n",
       " 'quando',\n",
       " 'muito',\n",
       " 'nos',\n",
       " 'já',\n",
       " 'eu',\n",
       " 'também',\n",
       " 'só',\n",
       " 'pelo',\n",
       " 'pela',\n",
       " 'até',\n",
       " 'isso',\n",
       " 'ela',\n",
       " 'entre',\n",
       " 'depois',\n",
       " 'sem',\n",
       " 'mesmo',\n",
       " 'aos',\n",
       " 'seus',\n",
       " 'quem',\n",
       " 'nas',\n",
       " 'me',\n",
       " 'esse',\n",
       " 'eles',\n",
       " 'você',\n",
       " 'essa',\n",
       " 'num',\n",
       " 'nem',\n",
       " 'suas',\n",
       " 'meu',\n",
       " 'às',\n",
       " 'minha',\n",
       " 'numa',\n",
       " 'pelos',\n",
       " 'elas',\n",
       " 'qual',\n",
       " 'nós',\n",
       " 'lhe',\n",
       " 'deles',\n",
       " 'essas',\n",
       " 'esses',\n",
       " 'pelas',\n",
       " 'este',\n",
       " 'dele',\n",
       " 'tu',\n",
       " 'te',\n",
       " 'vocês',\n",
       " 'vos',\n",
       " 'lhes',\n",
       " 'meus',\n",
       " 'minhas',\n",
       " 'teu',\n",
       " 'tua',\n",
       " 'teus',\n",
       " 'tuas',\n",
       " 'nosso',\n",
       " 'nossa',\n",
       " 'nossos',\n",
       " 'nossas',\n",
       " 'dela',\n",
       " 'delas',\n",
       " 'esta',\n",
       " 'estes',\n",
       " 'estas',\n",
       " 'aquele',\n",
       " 'aquela',\n",
       " 'aqueles',\n",
       " 'aquelas',\n",
       " 'isto',\n",
       " 'aquilo',\n",
       " 'estou',\n",
       " 'está',\n",
       " 'estamos',\n",
       " 'estão',\n",
       " 'estive',\n",
       " 'esteve',\n",
       " 'estivemos',\n",
       " 'estiveram',\n",
       " 'estava',\n",
       " 'estávamos',\n",
       " 'estavam',\n",
       " 'estivera',\n",
       " 'estivéramos',\n",
       " 'esteja',\n",
       " 'estejamos',\n",
       " 'estejam',\n",
       " 'estivesse',\n",
       " 'estivéssemos',\n",
       " 'estivessem',\n",
       " 'estiver',\n",
       " 'estivermos',\n",
       " 'estiverem',\n",
       " 'hei',\n",
       " 'há',\n",
       " 'havemos',\n",
       " 'hão',\n",
       " 'houve',\n",
       " 'houvemos',\n",
       " 'houveram',\n",
       " 'houvera',\n",
       " 'houvéramos',\n",
       " 'haja',\n",
       " 'hajamos',\n",
       " 'hajam',\n",
       " 'houvesse',\n",
       " 'houvéssemos',\n",
       " 'houvessem',\n",
       " 'houver',\n",
       " 'houvermos',\n",
       " 'houverem',\n",
       " 'houverei',\n",
       " 'houverá',\n",
       " 'houveremos',\n",
       " 'houverão',\n",
       " 'houveria',\n",
       " 'houveríamos',\n",
       " 'houveriam',\n",
       " 'sou',\n",
       " 'somos',\n",
       " 'são',\n",
       " 'era',\n",
       " 'éramos',\n",
       " 'eram',\n",
       " 'fui',\n",
       " 'foi',\n",
       " 'fomos',\n",
       " 'foram',\n",
       " 'fora',\n",
       " 'fôramos',\n",
       " 'seja',\n",
       " 'sejamos',\n",
       " 'sejam',\n",
       " 'fosse',\n",
       " 'fôssemos',\n",
       " 'fossem',\n",
       " 'for',\n",
       " 'formos',\n",
       " 'forem',\n",
       " 'serei',\n",
       " 'será',\n",
       " 'seremos',\n",
       " 'serão',\n",
       " 'seria',\n",
       " 'seríamos',\n",
       " 'seriam',\n",
       " 'tenho',\n",
       " 'tem',\n",
       " 'temos',\n",
       " 'tém',\n",
       " 'tinha',\n",
       " 'tínhamos',\n",
       " 'tinham',\n",
       " 'tive',\n",
       " 'teve',\n",
       " 'tivemos',\n",
       " 'tiveram',\n",
       " 'tivera',\n",
       " 'tivéramos',\n",
       " 'tenha',\n",
       " 'tenhamos',\n",
       " 'tenham',\n",
       " 'tivesse',\n",
       " 'tivéssemos',\n",
       " 'tivessem',\n",
       " 'tiver',\n",
       " 'tivermos',\n",
       " 'tiverem',\n",
       " 'terei',\n",
       " 'terá',\n",
       " 'teremos',\n",
       " 'terão',\n",
       " 'teria',\n",
       " 'teríamos',\n",
       " 'teriam']"
      ]
     },
     "execution_count": 13,
     "metadata": {
      "tags": []
     },
     "output_type": "execute_result"
    }
   ],
   "source": [
    "nltk.corpus.stopwords.words('portuguese')"
   ]
  },
  {
   "cell_type": "code",
   "execution_count": 0,
   "metadata": {
    "colab": {
     "base_uri": "https://localhost:8080/",
     "height": 157
    },
    "colab_type": "code",
    "executionInfo": {
     "elapsed": 1226,
     "status": "ok",
     "timestamp": 1550947448876,
     "user": {
      "displayName": "Rafael Novello",
      "photoUrl": "https://lh6.googleusercontent.com/-SoP3Hzzl5dY/AAAAAAAAAAI/AAAAAAAAAD0/YVqtA8j09EI/s64/photo.jpg",
      "userId": "15424338127039896265"
     },
     "user_tz": 180
    },
    "id": "nhi1oSyK6ekI",
    "outputId": "fb7682e9-9e45-4ffc-ec7d-a057057f6887"
   },
   "outputs": [
    {
     "name": "stdout",
     "output_type": "stream",
     "text": [
      "[nltk_data] Downloading package stopwords to /root/nltk_data...\n",
      "[nltk_data]   Unzipping corpora/stopwords.zip.\n",
      "          0  1\n",
      "gostei    1  1\n",
      "mba       2  1\n",
      "melhorar  0  1\n",
      "pode      0  1\n",
      "sobre     1  0\n"
     ]
    }
   ],
   "source": [
    "import nltk\n",
    "nltk.download('stopwords')\n",
    "from sklearn.feature_extraction.text import CountVectorizer\n",
    "\n",
    "stops = ['fiap'] + nltk.corpus.stopwords.words('portuguese')\n",
    "\n",
    "vect = CountVectorizer(ngram_range=(1,1), stop_words=stops)\n",
    "vect.fit(df.text)\n",
    "text_vect = vect.transform(df.text)\n",
    "\n",
    "print(pd.DataFrame(text_vect.A, columns=vect.get_feature_names()).T.to_string())"
   ]
  },
  {
   "cell_type": "code",
   "execution_count": 0,
   "metadata": {
    "colab": {
     "base_uri": "https://localhost:8080/",
     "height": 104
    },
    "colab_type": "code",
    "executionInfo": {
     "elapsed": 1908,
     "status": "ok",
     "timestamp": 1550947842252,
     "user": {
      "displayName": "Rafael Novello",
      "photoUrl": "https://lh6.googleusercontent.com/-SoP3Hzzl5dY/AAAAAAAAAAI/AAAAAAAAAD0/YVqtA8j09EI/s64/photo.jpg",
      "userId": "15424338127039896265"
     },
     "user_tz": 180
    },
    "id": "niXXv3e-6kb0",
    "outputId": "7bebfcbb-b6ba-46a5-fcdc-74b6f8735199"
   },
   "outputs": [
    {
     "name": "stdout",
     "output_type": "stream",
     "text": [
      "[nltk_data] Downloading package stopwords to /root/nltk_data...\n",
      "[nltk_data]   Package stopwords is already up-to-date!\n",
      "[nltk_data] Downloading package rslp to /root/nltk_data...\n",
      "[nltk_data]   Unzipping stemmers/rslp.zip.\n"
     ]
    },
    {
     "data": {
      "text/plain": [
       "True"
      ]
     },
     "execution_count": 14,
     "metadata": {
      "tags": []
     },
     "output_type": "execute_result"
    }
   ],
   "source": [
    "import nltk\n",
    "nltk.download('stopwords')\n",
    "nltk.download('rslp')"
   ]
  },
  {
   "cell_type": "code",
   "execution_count": 0,
   "metadata": {
    "colab": {
     "base_uri": "https://localhost:8080/",
     "height": 35
    },
    "colab_type": "code",
    "executionInfo": {
     "elapsed": 605,
     "status": "ok",
     "timestamp": 1537225588496,
     "user": {
      "displayName": "Rafael Novello",
      "photoUrl": "//lh6.googleusercontent.com/-SoP3Hzzl5dY/AAAAAAAAAAI/AAAAAAAAAD0/YVqtA8j09EI/s50-c-k-no/photo.jpg",
      "userId": "102365162583993931504"
     },
     "user_tz": 180
    },
    "id": "Sc4YJdb96m5z",
    "outputId": "7271034c-c76a-47bb-d954-d26d50fcc449"
   },
   "outputs": [
    {
     "name": "stdout",
     "output_type": "stream",
     "text": [
      "[u'de', u'a', u'o', u'que', u'e', u'do', u'da', u'em', u'um', u'para']\n"
     ]
    }
   ],
   "source": [
    "print(nltk.corpus.stopwords.words('portuguese')[:10])"
   ]
  },
  {
   "cell_type": "markdown",
   "metadata": {
    "colab_type": "text",
    "id": "XlTk39KiDGp-"
   },
   "source": [
    "## STEMMER\n",
    "\n",
    "---"
   ]
  },
  {
   "cell_type": "code",
   "execution_count": 0,
   "metadata": {
    "colab": {
     "base_uri": "https://localhost:8080/",
     "height": 104
    },
    "colab_type": "code",
    "executionInfo": {
     "elapsed": 858,
     "status": "ok",
     "timestamp": 1550947854756,
     "user": {
      "displayName": "Rafael Novello",
      "photoUrl": "https://lh6.googleusercontent.com/-SoP3Hzzl5dY/AAAAAAAAAAI/AAAAAAAAAD0/YVqtA8j09EI/s64/photo.jpg",
      "userId": "15424338127039896265"
     },
     "user_tz": 180
    },
    "id": "fvGZCP9g_JXh",
    "outputId": "d35b03fe-9ee7-46e7-c5e7-3eece59a1e3c"
   },
   "outputs": [
    {
     "name": "stdout",
     "output_type": "stream",
     "text": [
      "connect\n",
      "connect\n",
      "connect\n",
      "connect\n",
      "connect\n"
     ]
    }
   ],
   "source": [
    "from nltk.stem import PorterStemmer\n",
    "\n",
    "examples = [\n",
    "    \"connection\",\"connections\",\n",
    "    \"connective\",\"connecting\",\"connected\"\n",
    "]\n",
    "\n",
    "ps = PorterStemmer()\n",
    "\n",
    "for word in examples:\n",
    "  print(ps.stem(word))"
   ]
  },
  {
   "cell_type": "markdown",
   "metadata": {
    "colab_type": "text",
    "id": "SrnNGEJr0Z5Z"
   },
   "source": [
    "## PEGADINHA"
   ]
  },
  {
   "cell_type": "code",
   "execution_count": 0,
   "metadata": {
    "colab": {
     "base_uri": "https://localhost:8080/",
     "height": 104
    },
    "colab_type": "code",
    "executionInfo": {
     "elapsed": 746,
     "status": "ok",
     "timestamp": 1550948431027,
     "user": {
      "displayName": "Rafael Novello",
      "photoUrl": "https://lh6.googleusercontent.com/-SoP3Hzzl5dY/AAAAAAAAAAI/AAAAAAAAAD0/YVqtA8j09EI/s64/photo.jpg",
      "userId": "15424338127039896265"
     },
     "user_tz": 180
    },
    "id": "bbdkV5LZ0Zmj",
    "outputId": "f2d1bd7c-1c7b-44e5-ba45-77193dfad6e8"
   },
   "outputs": [
    {
     "name": "stdout",
     "output_type": "stream",
     "text": [
      "conecta\n",
      "conectado\n",
      "conectamo\n",
      "desconectado\n",
      "conectividad\n"
     ]
    }
   ],
   "source": [
    "from nltk.stem import PorterStemmer\n",
    "\n",
    "examples = [\"conecta\",\"conectado\",\"conectamos\",\"desconectados\",\"conectividade\"]\n",
    "\n",
    "ps = PorterStemmer()\n",
    "\n",
    "for word in examples:\n",
    "  print(ps.stem(word))"
   ]
  },
  {
   "cell_type": "code",
   "execution_count": 0,
   "metadata": {
    "colab": {
     "base_uri": "https://localhost:8080/",
     "height": 139
    },
    "colab_type": "code",
    "executionInfo": {
     "elapsed": 782,
     "status": "ok",
     "timestamp": 1550948562135,
     "user": {
      "displayName": "Rafael Novello",
      "photoUrl": "https://lh6.googleusercontent.com/-SoP3Hzzl5dY/AAAAAAAAAAI/AAAAAAAAAD0/YVqtA8j09EI/s64/photo.jpg",
      "userId": "15424338127039896265"
     },
     "user_tz": 180
    },
    "id": "gNTXj_Mo0Zcd",
    "outputId": "278291b8-f819-4fac-abfe-b7a0eec6d16b"
   },
   "outputs": [
    {
     "name": "stdout",
     "output_type": "stream",
     "text": [
      "desconect\n",
      "desconectav\n",
      "conect\n",
      "conect\n",
      "conect\n",
      "desconect\n",
      "conect\n"
     ]
    }
   ],
   "source": [
    "from nltk.stem.rslp import RSLPStemmer\n",
    "\n",
    "examples = [\"desconectamos\",\"desconectavamos\",\"conecta\",\"conectado\",\"conectamos\",\"desconectados\",\"conectividade\"]\n",
    "\n",
    "ps = RSLPStemmer()\n",
    "\n",
    "for word in examples:\n",
    "  print(ps.stem(word))"
   ]
  },
  {
   "cell_type": "markdown",
   "metadata": {
    "colab_type": "text",
    "id": "kBwwjeENmyMu"
   },
   "source": [
    "## LEMMATIZER"
   ]
  },
  {
   "cell_type": "code",
   "execution_count": 1,
   "metadata": {
    "colab": {
     "base_uri": "https://localhost:8080/",
     "height": 102
    },
    "colab_type": "code",
    "executionInfo": {
     "elapsed": 3529,
     "status": "ok",
     "timestamp": 1551213446545,
     "user": {
      "displayName": "Rafael Novello",
      "photoUrl": "https://lh6.googleusercontent.com/-SoP3Hzzl5dY/AAAAAAAAAAI/AAAAAAAAAD0/YVqtA8j09EI/s64/photo.jpg",
      "userId": "15424338127039896265"
     },
     "user_tz": 180
    },
    "id": "IVUjzI15cFty",
    "outputId": "06c6c08a-c8fd-4c0a-8687-3429d58713ae"
   },
   "outputs": [
    {
     "name": "stdout",
     "output_type": "stream",
     "text": [
      "[nltk_data] Downloading package wordnet to /root/nltk_data...\n",
      "[nltk_data]   Package wordnet is already up-to-date!\n",
      "conectar\n",
      "conectando\n",
      "conectaria\n"
     ]
    }
   ],
   "source": [
    "import nltk\n",
    "nltk.download('wordnet')\n",
    "\n",
    "from nltk.stem import WordNetLemmatizer\n",
    "\n",
    "#examples = [\n",
    "#    \"go\",\"going\",\n",
    "#    \"goes\",\"gone\",\"went\"\n",
    "#]\n",
    "examples = [\n",
    "    \"conectar\",\"conectando\",\"conectaria\"\n",
    "]\n",
    "\n",
    "wnl = WordNetLemmatizer()\n",
    "\n",
    "for word in examples:\n",
    "  print(wnl.lemmatize(word, 'v'))"
   ]
  }
 ],
 "metadata": {
  "colab": {
   "name": "Aula 2 IA PLN - Demo.ipynb",
   "provenance": [],
   "version": "0.3.2"
  },
  "kernelspec": {
   "display_name": "Python 3",
   "language": "python",
   "name": "python3"
  },
  "language_info": {
   "codemirror_mode": {
    "name": "ipython",
    "version": 3
   },
   "file_extension": ".py",
   "mimetype": "text/x-python",
   "name": "python",
   "nbconvert_exporter": "python",
   "pygments_lexer": "ipython3",
   "version": "3.7.3"
  }
 },
 "nbformat": 4,
 "nbformat_minor": 1
}
